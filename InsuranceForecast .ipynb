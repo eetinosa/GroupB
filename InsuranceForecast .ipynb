{
 "cells": [
  {
   "cell_type": "code",
   "execution_count": 1,
   "metadata": {},
   "outputs": [],
   "source": [
    "#import required python libraries\n",
    "import numpy as np\n",
    "import pandas as pd\n",
    "import matplotlib.pyplot as plt\n",
    "import seaborn as sns"
   ]
  },
  {
   "cell_type": "code",
   "execution_count": 2,
   "metadata": {},
   "outputs": [],
   "source": [
    "insurance = pd.read_csv('insurance.csv')"
   ]
  },
  {
   "cell_type": "code",
   "execution_count": 3,
   "metadata": {},
   "outputs": [
    {
     "data": {
      "text/html": [
       "<div>\n",
       "<style scoped>\n",
       "    .dataframe tbody tr th:only-of-type {\n",
       "        vertical-align: middle;\n",
       "    }\n",
       "\n",
       "    .dataframe tbody tr th {\n",
       "        vertical-align: top;\n",
       "    }\n",
       "\n",
       "    .dataframe thead th {\n",
       "        text-align: right;\n",
       "    }\n",
       "</style>\n",
       "<table border=\"1\" class=\"dataframe\">\n",
       "  <thead>\n",
       "    <tr style=\"text-align: right;\">\n",
       "      <th></th>\n",
       "      <th>age</th>\n",
       "      <th>sex</th>\n",
       "      <th>bmi</th>\n",
       "      <th>children</th>\n",
       "      <th>smoker</th>\n",
       "      <th>region</th>\n",
       "      <th>charges</th>\n",
       "    </tr>\n",
       "  </thead>\n",
       "  <tbody>\n",
       "    <tr>\n",
       "      <th>0</th>\n",
       "      <td>19</td>\n",
       "      <td>female</td>\n",
       "      <td>27.900</td>\n",
       "      <td>0</td>\n",
       "      <td>yes</td>\n",
       "      <td>southwest</td>\n",
       "      <td>16884.92400</td>\n",
       "    </tr>\n",
       "    <tr>\n",
       "      <th>1</th>\n",
       "      <td>18</td>\n",
       "      <td>male</td>\n",
       "      <td>33.770</td>\n",
       "      <td>1</td>\n",
       "      <td>no</td>\n",
       "      <td>southeast</td>\n",
       "      <td>1725.55230</td>\n",
       "    </tr>\n",
       "    <tr>\n",
       "      <th>2</th>\n",
       "      <td>28</td>\n",
       "      <td>male</td>\n",
       "      <td>33.000</td>\n",
       "      <td>3</td>\n",
       "      <td>no</td>\n",
       "      <td>southeast</td>\n",
       "      <td>4449.46200</td>\n",
       "    </tr>\n",
       "    <tr>\n",
       "      <th>3</th>\n",
       "      <td>33</td>\n",
       "      <td>male</td>\n",
       "      <td>22.705</td>\n",
       "      <td>0</td>\n",
       "      <td>no</td>\n",
       "      <td>northwest</td>\n",
       "      <td>21984.47061</td>\n",
       "    </tr>\n",
       "    <tr>\n",
       "      <th>4</th>\n",
       "      <td>32</td>\n",
       "      <td>male</td>\n",
       "      <td>28.880</td>\n",
       "      <td>0</td>\n",
       "      <td>no</td>\n",
       "      <td>northwest</td>\n",
       "      <td>3866.85520</td>\n",
       "    </tr>\n",
       "  </tbody>\n",
       "</table>\n",
       "</div>"
      ],
      "text/plain": [
       "   age     sex     bmi  children smoker     region      charges\n",
       "0   19  female  27.900         0    yes  southwest  16884.92400\n",
       "1   18    male  33.770         1     no  southeast   1725.55230\n",
       "2   28    male  33.000         3     no  southeast   4449.46200\n",
       "3   33    male  22.705         0     no  northwest  21984.47061\n",
       "4   32    male  28.880         0     no  northwest   3866.85520"
      ]
     },
     "execution_count": 3,
     "metadata": {},
     "output_type": "execute_result"
    }
   ],
   "source": [
    "insurance.head()\n"
   ]
  },
  {
   "cell_type": "code",
   "execution_count": 4,
   "metadata": {},
   "outputs": [
    {
     "data": {
      "text/html": [
       "<div>\n",
       "<style scoped>\n",
       "    .dataframe tbody tr th:only-of-type {\n",
       "        vertical-align: middle;\n",
       "    }\n",
       "\n",
       "    .dataframe tbody tr th {\n",
       "        vertical-align: top;\n",
       "    }\n",
       "\n",
       "    .dataframe thead th {\n",
       "        text-align: right;\n",
       "    }\n",
       "</style>\n",
       "<table border=\"1\" class=\"dataframe\">\n",
       "  <thead>\n",
       "    <tr style=\"text-align: right;\">\n",
       "      <th></th>\n",
       "      <th>age</th>\n",
       "      <th>sex</th>\n",
       "      <th>bmi</th>\n",
       "      <th>children</th>\n",
       "      <th>smoker</th>\n",
       "      <th>region</th>\n",
       "      <th>charges</th>\n",
       "    </tr>\n",
       "  </thead>\n",
       "  <tbody>\n",
       "    <tr>\n",
       "      <th>count</th>\n",
       "      <td>1338.000000</td>\n",
       "      <td>1338</td>\n",
       "      <td>1338.000000</td>\n",
       "      <td>1338.000000</td>\n",
       "      <td>1338</td>\n",
       "      <td>1338</td>\n",
       "      <td>1338.000000</td>\n",
       "    </tr>\n",
       "    <tr>\n",
       "      <th>unique</th>\n",
       "      <td>NaN</td>\n",
       "      <td>2</td>\n",
       "      <td>NaN</td>\n",
       "      <td>NaN</td>\n",
       "      <td>2</td>\n",
       "      <td>4</td>\n",
       "      <td>NaN</td>\n",
       "    </tr>\n",
       "    <tr>\n",
       "      <th>top</th>\n",
       "      <td>NaN</td>\n",
       "      <td>male</td>\n",
       "      <td>NaN</td>\n",
       "      <td>NaN</td>\n",
       "      <td>no</td>\n",
       "      <td>southeast</td>\n",
       "      <td>NaN</td>\n",
       "    </tr>\n",
       "    <tr>\n",
       "      <th>freq</th>\n",
       "      <td>NaN</td>\n",
       "      <td>676</td>\n",
       "      <td>NaN</td>\n",
       "      <td>NaN</td>\n",
       "      <td>1064</td>\n",
       "      <td>364</td>\n",
       "      <td>NaN</td>\n",
       "    </tr>\n",
       "    <tr>\n",
       "      <th>mean</th>\n",
       "      <td>39.207025</td>\n",
       "      <td>NaN</td>\n",
       "      <td>30.663397</td>\n",
       "      <td>1.094918</td>\n",
       "      <td>NaN</td>\n",
       "      <td>NaN</td>\n",
       "      <td>13270.422265</td>\n",
       "    </tr>\n",
       "    <tr>\n",
       "      <th>std</th>\n",
       "      <td>14.049960</td>\n",
       "      <td>NaN</td>\n",
       "      <td>6.098187</td>\n",
       "      <td>1.205493</td>\n",
       "      <td>NaN</td>\n",
       "      <td>NaN</td>\n",
       "      <td>12110.011237</td>\n",
       "    </tr>\n",
       "    <tr>\n",
       "      <th>min</th>\n",
       "      <td>18.000000</td>\n",
       "      <td>NaN</td>\n",
       "      <td>15.960000</td>\n",
       "      <td>0.000000</td>\n",
       "      <td>NaN</td>\n",
       "      <td>NaN</td>\n",
       "      <td>1121.873900</td>\n",
       "    </tr>\n",
       "    <tr>\n",
       "      <th>25%</th>\n",
       "      <td>27.000000</td>\n",
       "      <td>NaN</td>\n",
       "      <td>26.296250</td>\n",
       "      <td>0.000000</td>\n",
       "      <td>NaN</td>\n",
       "      <td>NaN</td>\n",
       "      <td>4740.287150</td>\n",
       "    </tr>\n",
       "    <tr>\n",
       "      <th>50%</th>\n",
       "      <td>39.000000</td>\n",
       "      <td>NaN</td>\n",
       "      <td>30.400000</td>\n",
       "      <td>1.000000</td>\n",
       "      <td>NaN</td>\n",
       "      <td>NaN</td>\n",
       "      <td>9382.033000</td>\n",
       "    </tr>\n",
       "    <tr>\n",
       "      <th>75%</th>\n",
       "      <td>51.000000</td>\n",
       "      <td>NaN</td>\n",
       "      <td>34.693750</td>\n",
       "      <td>2.000000</td>\n",
       "      <td>NaN</td>\n",
       "      <td>NaN</td>\n",
       "      <td>16639.912515</td>\n",
       "    </tr>\n",
       "    <tr>\n",
       "      <th>max</th>\n",
       "      <td>64.000000</td>\n",
       "      <td>NaN</td>\n",
       "      <td>53.130000</td>\n",
       "      <td>5.000000</td>\n",
       "      <td>NaN</td>\n",
       "      <td>NaN</td>\n",
       "      <td>63770.428010</td>\n",
       "    </tr>\n",
       "  </tbody>\n",
       "</table>\n",
       "</div>"
      ],
      "text/plain": [
       "                age   sex          bmi     children smoker     region  \\\n",
       "count   1338.000000  1338  1338.000000  1338.000000   1338       1338   \n",
       "unique          NaN     2          NaN          NaN      2          4   \n",
       "top             NaN  male          NaN          NaN     no  southeast   \n",
       "freq            NaN   676          NaN          NaN   1064        364   \n",
       "mean      39.207025   NaN    30.663397     1.094918    NaN        NaN   \n",
       "std       14.049960   NaN     6.098187     1.205493    NaN        NaN   \n",
       "min       18.000000   NaN    15.960000     0.000000    NaN        NaN   \n",
       "25%       27.000000   NaN    26.296250     0.000000    NaN        NaN   \n",
       "50%       39.000000   NaN    30.400000     1.000000    NaN        NaN   \n",
       "75%       51.000000   NaN    34.693750     2.000000    NaN        NaN   \n",
       "max       64.000000   NaN    53.130000     5.000000    NaN        NaN   \n",
       "\n",
       "             charges  \n",
       "count    1338.000000  \n",
       "unique           NaN  \n",
       "top              NaN  \n",
       "freq             NaN  \n",
       "mean    13270.422265  \n",
       "std     12110.011237  \n",
       "min      1121.873900  \n",
       "25%      4740.287150  \n",
       "50%      9382.033000  \n",
       "75%     16639.912515  \n",
       "max     63770.428010  "
      ]
     },
     "execution_count": 4,
     "metadata": {},
     "output_type": "execute_result"
    }
   ],
   "source": [
    "# show descriptives of the dataset\n",
    "insurance.describe(include='all')"
   ]
  },
  {
   "cell_type": "code",
   "execution_count": null,
   "metadata": {},
   "outputs": [],
   "source": [
    "The above output shows the descriptive statistics for all columns in the dataset.  \n",
    "The mean age is of individuals is 39, the maximum age is 64, while the minimum is 18.  \n",
    "Males have a greater representation (676) in the dataset than females.  \n",
    "Majority of the respondents are non-smokers (1064).  \n",
    "Southeast region has the most respondents in the dataset (364)."
   ]
  },
  {
   "cell_type": "code",
   "execution_count": 5,
   "metadata": {},
   "outputs": [
    {
     "name": "stdout",
     "output_type": "stream",
     "text": [
      "<class 'pandas.core.frame.DataFrame'>\n",
      "RangeIndex: 1338 entries, 0 to 1337\n",
      "Data columns (total 7 columns):\n",
      " #   Column    Non-Null Count  Dtype  \n",
      "---  ------    --------------  -----  \n",
      " 0   age       1338 non-null   int64  \n",
      " 1   sex       1338 non-null   object \n",
      " 2   bmi       1338 non-null   float64\n",
      " 3   children  1338 non-null   int64  \n",
      " 4   smoker    1338 non-null   object \n",
      " 5   region    1338 non-null   object \n",
      " 6   charges   1338 non-null   float64\n",
      "dtypes: float64(2), int64(2), object(3)\n",
      "memory usage: 73.3+ KB\n"
     ]
    }
   ],
   "source": [
    "# show column details\n",
    "insurance.info()"
   ]
  },
  {
   "cell_type": "code",
   "execution_count": 6,
   "metadata": {
    "scrolled": true
   },
   "outputs": [
    {
     "data": {
      "image/png": "[encoded data removed]",
      "text/plain": [
       "<Figure size 432x288 with 1 Axes>"
      ]
     },
     "metadata": {
      "needs_background": "light"
     },
     "output_type": "display_data"
    }
   ],
   "source": [
    "# visualize the sex distribution\n",
    "sns.countplot(data=insurance, x= 'sex')\n",
    "\n",
    "# show the plot\n",
    "plt.show()"
   ]
  },
  {
   "cell_type": "code",
   "execution_count": 7,
   "metadata": {},
   "outputs": [
    {
     "data": {
      "image/png": "[encoded data removed]",
      "text/plain": [
       "<Figure size 432x288 with 1 Axes>"
      ]
     },
     "metadata": {
      "needs_background": "light"
     },
     "output_type": "display_data"
    }
   ],
   "source": [
    "# visualize smokers distribution\n",
    "sns.countplot(data = insurance, x = 'smoker')\n",
    "\n",
    "# show the plot\n",
    "plt.show()"
   ]
  },
  {
   "cell_type": "code",
   "execution_count": 8,
   "metadata": {},
   "outputs": [
    {
     "data": {
      "image/png": "[encoded data removed]",
      "text/plain": [
       "<Figure size 432x288 with 1 Axes>"
      ]
     },
     "metadata": {
      "needs_background": "light"
     },
     "output_type": "display_data"
    }
   ],
   "source": [
    "# show the  of charges for each sex\n",
    "sns.countplot(data = insurance, x='sex', hue='smoker')\n",
    "\n",
    "# show the plot\n",
    "plt.show()\n",
    "#The above plot shows amongst the smokers, that there are more male smokers than females smokers."
   ]
  },
  {
   "cell_type": "code",
   "execution_count": 9,
   "metadata": {},
   "outputs": [
    {
     "data": {
      "image/png": "[encoded data removed]",
      "text/plain": [
       "<Figure size 432x288 with 1 Axes>"
      ]
     },
     "metadata": {
      "needs_background": "light"
     },
     "output_type": "display_data"
    }
   ],
   "source": [
    "# show the distribution of respondents region\n",
    "sns.countplot(data=insurance , x = 'region')\n",
    "plt.show()\n",
    "#The above plot shows that majority of the respondents are from the southeast region, while the other regions have an almost equal representation of respondents."
   ]
  },
  {
   "cell_type": "code",
   "execution_count": 10,
   "metadata": {},
   "outputs": [
    {
     "data": {
      "image/png": "[encoded data removed]",
      "text/plain": [
       "<Figure size 432x288 with 1 Axes>"
      ]
     },
     "metadata": {
      "needs_background": "light"
     },
     "output_type": "display_data"
    }
   ],
   "source": [
    "# show the distribution respondents age\n",
    "insurance.boxplot(column='age', grid=False)\n",
    "\n",
    "# show the plot\n",
    "plt.show()\n",
    "#The above chart shows that 25% of respondents are below 25 years, 50% are below 40 years and 75% are below 52 years."
   ]
  },
  {
   "cell_type": "code",
   "execution_count": 11,
   "metadata": {},
   "outputs": [
    {
     "data": {
      "image/png": "[encoded data removed]",
      "text/plain": [
       "<Figure size 720x288 with 2 Axes>"
      ]
     },
     "metadata": {
      "needs_background": "light"
     },
     "output_type": "display_data"
    }
   ],
   "source": [
    "# show the distribution of ages of respondents\n",
    "insurance.hist(column='age', grid=False, by= 'sex', figsize= (10, 4))\n",
    "\n",
    "# show the plot\n",
    "plt.show()\n",
    "#The above histogram plots show age is right skewed for both sexes that majority of the respondents are above 30 years old for both genders."
   ]
  },
  {
   "cell_type": "code",
   "execution_count": 12,
   "metadata": {},
   "outputs": [
    {
     "data": {
      "image/png": "[encoded data removed]",
      "text/plain": [
       "<Figure size 720x288 with 1 Axes>"
      ]
     },
     "metadata": {
      "needs_background": "light"
     },
     "output_type": "display_data"
    }
   ],
   "source": [
    "# show the distribution of BMI\n",
    "insurance.hist(column='bmi', grid=False, figsize= (10, 4))\n",
    "\n",
    "# show the plot\n",
    "plt.show()\n",
    "#The BMI of respondents is slightly skewed to the right, indicating that most respondents have BMI greater than 30"
   ]
  },
  {
   "cell_type": "code",
   "execution_count": 13,
   "metadata": {},
   "outputs": [
    {
     "data": {
      "image/png": "[encoded data removed]",
      "text/plain": [
       "<Figure size 432x288 with 1 Axes>"
      ]
     },
     "metadata": {
      "needs_background": "light"
     },
     "output_type": "display_data"
    }
   ],
   "source": [
    "# plot the distribution of insurance charges\n",
    "plt.hist(insurance['charges'])\n",
    "\n",
    "# show the plot\n",
    "plt.show()\n",
    "#The above plot shows that the charges for insurance is right skewed. This invariably means that majority of the respondents are charged greater than mean insurance charge (13270.422265)"
   ]
  },
  {
   "cell_type": "code",
   "execution_count": 14,
   "metadata": {},
   "outputs": [
    {
     "data": {
      "image/png": "[encoded data removed]",
      "text/plain": [
       "<Figure size 720x288 with 2 Axes>"
      ]
     },
     "metadata": {
      "needs_background": "light"
     },
     "output_type": "display_data"
    }
   ],
   "source": [
    "# plot the distribution of charges between gender \n",
    "insurance.hist(column='charges', by='sex', grid=False, figsize=(10, 4))\n",
    "\n",
    "# show the plot\n",
    "plt.show()\n",
    "#The above plot shows that the charges for insurance is right skewed for both sexes. This implies that majority of both male and female respondents are charged greater than mean insurance charge (13270.422265)"
   ]
  },
  {
   "cell_type": "code",
   "execution_count": null,
   "metadata": {},
   "outputs": [],
   "source": []
  },
  {
   "cell_type": "code",
   "execution_count": 15,
   "metadata": {},
   "outputs": [
    {
     "data": {
      "text/plain": [
       "age            int64\n",
       "sex         category\n",
       "bmi          float64\n",
       "children       int64\n",
       "smoker      category\n",
       "region      category\n",
       "charges      float64\n",
       "dtype: object"
      ]
     },
     "execution_count": 15,
     "metadata": {},
     "output_type": "execute_result"
    }
   ],
   "source": [
    "#Converting objects labels into categorical\n",
    "insurance[['sex', 'smoker', 'region']] = insurance[['sex', 'smoker', 'region']].astype('category')\n",
    "insurance.dtypes"
   ]
  },
  {
   "cell_type": "code",
   "execution_count": 16,
   "metadata": {},
   "outputs": [
    {
     "data": {
      "text/plain": [
       "age           int64\n",
       "sex           int32\n",
       "bmi         float64\n",
       "children      int64\n",
       "smoker        int32\n",
       "region        int32\n",
       "charges     float64\n",
       "dtype: object"
      ]
     },
     "execution_count": 16,
     "metadata": {},
     "output_type": "execute_result"
    }
   ],
   "source": [
    "#Converting category labels into numerical using LabelEncoder\n",
    "from sklearn.preprocessing import LabelEncoder\n",
    "label = LabelEncoder()\n",
    "\n",
    "label.fit(insurance.sex.drop_duplicates())\n",
    "insurance.sex = label.transform(insurance.sex)\n",
    "\n",
    "label.fit(insurance.smoker.drop_duplicates())\n",
    "insurance.smoker = label.transform(insurance.smoker)\n",
    "\n",
    "label.fit(insurance.region.drop_duplicates())\n",
    "insurance.region = label.transform(insurance.region)\n",
    "\n",
    "insurance.dtypes"
   ]
  },
  {
   "cell_type": "code",
   "execution_count": 17,
   "metadata": {},
   "outputs": [
    {
     "data": {
      "text/html": [
       "<div>\n",
       "<style scoped>\n",
       "    .dataframe tbody tr th:only-of-type {\n",
       "        vertical-align: middle;\n",
       "    }\n",
       "\n",
       "    .dataframe tbody tr th {\n",
       "        vertical-align: top;\n",
       "    }\n",
       "\n",
       "    .dataframe thead th {\n",
       "        text-align: right;\n",
       "    }\n",
       "</style>\n",
       "<table border=\"1\" class=\"dataframe\">\n",
       "  <thead>\n",
       "    <tr style=\"text-align: right;\">\n",
       "      <th></th>\n",
       "      <th>age</th>\n",
       "      <th>sex</th>\n",
       "      <th>bmi</th>\n",
       "      <th>children</th>\n",
       "      <th>smoker</th>\n",
       "      <th>region</th>\n",
       "      <th>charges</th>\n",
       "    </tr>\n",
       "  </thead>\n",
       "  <tbody>\n",
       "    <tr>\n",
       "      <th>0</th>\n",
       "      <td>19</td>\n",
       "      <td>0</td>\n",
       "      <td>27.900</td>\n",
       "      <td>0</td>\n",
       "      <td>1</td>\n",
       "      <td>3</td>\n",
       "      <td>16884.92400</td>\n",
       "    </tr>\n",
       "    <tr>\n",
       "      <th>1</th>\n",
       "      <td>18</td>\n",
       "      <td>1</td>\n",
       "      <td>33.770</td>\n",
       "      <td>1</td>\n",
       "      <td>0</td>\n",
       "      <td>2</td>\n",
       "      <td>1725.55230</td>\n",
       "    </tr>\n",
       "    <tr>\n",
       "      <th>2</th>\n",
       "      <td>28</td>\n",
       "      <td>1</td>\n",
       "      <td>33.000</td>\n",
       "      <td>3</td>\n",
       "      <td>0</td>\n",
       "      <td>2</td>\n",
       "      <td>4449.46200</td>\n",
       "    </tr>\n",
       "    <tr>\n",
       "      <th>3</th>\n",
       "      <td>33</td>\n",
       "      <td>1</td>\n",
       "      <td>22.705</td>\n",
       "      <td>0</td>\n",
       "      <td>0</td>\n",
       "      <td>1</td>\n",
       "      <td>21984.47061</td>\n",
       "    </tr>\n",
       "    <tr>\n",
       "      <th>4</th>\n",
       "      <td>32</td>\n",
       "      <td>1</td>\n",
       "      <td>28.880</td>\n",
       "      <td>0</td>\n",
       "      <td>0</td>\n",
       "      <td>1</td>\n",
       "      <td>3866.85520</td>\n",
       "    </tr>\n",
       "  </tbody>\n",
       "</table>\n",
       "</div>"
      ],
      "text/plain": [
       "   age  sex     bmi  children  smoker  region      charges\n",
       "0   19    0  27.900         0       1       3  16884.92400\n",
       "1   18    1  33.770         1       0       2   1725.55230\n",
       "2   28    1  33.000         3       0       2   4449.46200\n",
       "3   33    1  22.705         0       0       1  21984.47061\n",
       "4   32    1  28.880         0       0       1   3866.85520"
      ]
     },
     "execution_count": 17,
     "metadata": {},
     "output_type": "execute_result"
    }
   ],
   "source": [
    "insurance.head()"
   ]
  },
  {
   "cell_type": "code",
   "execution_count": 18,
   "metadata": {},
   "outputs": [],
   "source": [
    "import numpy as np\n",
    "import pandas as pd\n",
    "import matplotlib.pyplot as plt\n",
    "from sklearn.linear_model import LinearRegression\n",
    "from sklearn.metrics import mean_squared_error\n",
    "from sklearn.model_selection import train_test_split\n",
    "from sklearn import linear_model\n",
    "from sklearn.metrics import mean_squared_error, r2_score"
   ]
  },
  {
   "cell_type": "code",
   "execution_count": 19,
   "metadata": {},
   "outputs": [],
   "source": [
    "#Defining the feature varibles and the target variable by droping child mortality in x and sing it in y\n",
    "y = insurance['charges'].values\n",
    "x = insurance.drop(['charges'], axis= 1).values"
   ]
  },
  {
   "cell_type": "code",
   "execution_count": 20,
   "metadata": {},
   "outputs": [],
   "source": [
    "#Creating training and test sets, using 30 of data set to test and 70% to train\n",
    "X_train, X_test, y_train, y_test = train_test_split(x, y, test_size = 0.3, random_state=42)"
   ]
  },
  {
   "cell_type": "code",
   "execution_count": 21,
   "metadata": {},
   "outputs": [],
   "source": [
    "model = LinearRegression()\n",
    "model.fit(X_train, y_train)\n",
    "y_pred = model.predict(X_test)"
   ]
  },
  {
   "cell_type": "code",
   "execution_count": 22,
   "metadata": {},
   "outputs": [
    {
     "name": "stdout",
     "output_type": "stream",
     "text": [
      "Coefficients: [  261.62568984   109.64719595   344.54483066   424.37016596\n",
      " 23620.80252148  -326.46262527]\n",
      "Intercept: -12364.391322279233\n",
      "Mean squared error (MSE): 33805466.90\n",
      "Coefficient of determination (R^2): 0.77\n"
     ]
    }
   ],
   "source": [
    "print('Coefficients:', model.coef_)\n",
    "print('Intercept:', model.intercept_)\n",
    "print('Mean squared error (MSE): %.2f'\n",
    "      % mean_squared_error(y_test, y_pred))\n",
    "print('Coefficient of determination (R^2): %.2f'\n",
    "      % r2_score(y_test, y_pred))"
   ]
  },
  {
   "cell_type": "code",
   "execution_count": 23,
   "metadata": {},
   "outputs": [
    {
     "data": {
      "text/plain": [
       "array([ 9095.06825 ,  5272.1758  , 29330.98315 ,  9301.89355 ,\n",
       "       33750.2918  ,  4536.259   ,  2117.33885 , 14210.53595 ,\n",
       "        3732.6251  , 10264.4421  , 18259.216   ,  7256.7231  ,\n",
       "        3947.4131  , 46151.1245  , 48673.5588  , 44202.6536  ,\n",
       "        9800.8882  , 42969.8527  ,  8233.0975  , 21774.32215 ,\n",
       "        5080.096   ,  7441.501   ,  1256.299   ,  2755.02095 ,\n",
       "       11085.5868  , 10923.9332  , 12644.589   , 18804.7524  ,\n",
       "        9715.841   ,  1131.5066  , 15828.82173 , 11842.62375 ,\n",
       "        2020.5523  ,  5693.4305  ,  2904.088   ,  7448.40395 ,\n",
       "        2597.779   ,  7337.748   , 23887.6627  , 38709.176   ,\n",
       "        4687.797   ,  2643.2685  , 11674.13    , 12124.9924  ,\n",
       "        4889.9995  , 12333.828   ,  3579.8287  ,  4391.652   ,\n",
       "       42124.5153  ,  4463.2051  , 13887.204   ,  1719.4363  ,\n",
       "       28476.73499 ,  1708.92575 , 10594.2257  , 25333.33284 ,\n",
       "        3645.0894  , 38746.3551  , 11848.141   , 10564.8845  ,\n",
       "       13880.949   ,  4753.6368  , 27941.28758 ,  8017.06115 ,\n",
       "       23045.56616 ,  4133.64165 , 17942.106   , 25992.82104 ,\n",
       "        3594.17085 ,  1682.597   ,  6079.6715  ,  9411.005   ,\n",
       "        8283.6807  ,  6338.0756  ,  7152.6714  ,  4889.0368  ,\n",
       "        4846.92015 , 11454.0215  ,  4349.462   ,  9101.798   ,\n",
       "        1391.5287  , 28101.33305 ,  5152.134   , 38511.6283  ,\n",
       "       44501.3982  , 41097.16175 ,  4837.5823  , 10601.63225 ,\n",
       "        8310.83915 , 11264.541   , 15230.32405 , 27037.9141  ,\n",
       "       23401.30575 ,  5031.26955 , 38282.7495  ,  6875.961   ,\n",
       "       19719.6947  ,  1880.07    , 18765.87545 ,  6402.29135 ,\n",
       "        4527.18295 ,  1743.214   ,  5709.1644  , 12363.547   ,\n",
       "       13129.60345 ,  1727.54    ,  7731.4271  , 21195.818   ,\n",
       "        1702.4553  , 23244.7902  , 23082.95533 ,  2927.0647  ,\n",
       "       13019.16105 , 37701.8768  ,  9778.3472  ,  1980.07    ,\n",
       "       30259.99556 , 22478.6     ,  6313.759   ,  2789.0574  ,\n",
       "        5594.8455  ,  7261.741   , 11396.9002  ,  1986.9334  ,\n",
       "        4719.73655 ,  7749.1564  ,  7345.7266  ,  9288.0267  ,\n",
       "       12244.531   ,  1837.2819  ,  3972.9247  ,  5934.3798  ,\n",
       "        5836.5204  ,  7935.29115 ,  5649.715   , 12347.172   ,\n",
       "       12404.8791  , 22144.032   , 42983.4585  , 37270.1512  ,\n",
       "        5267.81815 ,  9866.30485 ,  2322.6218  , 33471.97189 ,\n",
       "        2137.6536  , 23306.547   ,  5261.46945 ,  3761.292   ,\n",
       "       11436.73815 ,  4751.07    , 46661.4424  ,  2690.1138  ,\n",
       "        1146.7966  , 37607.5277  ,  6373.55735 ,  4518.82625 ,\n",
       "       13555.0049  ,  8547.6913  , 34439.8559  , 39125.33225 ,\n",
       "       13607.36875 ,  2710.82855 , 14988.432   ,  2396.0959  ,\n",
       "        3591.48    ,  7162.0122  , 48824.45    , 43578.9394  ,\n",
       "       39556.4945  ,  2632.992   ,  9182.17    ,  6238.298   ,\n",
       "        5757.41345 ,  4239.89265 ,  2154.361   , 21978.6769  ,\n",
       "       16297.846   , 13831.1152  , 32734.1863  , 11830.6072  ,\n",
       "       29523.1656  ,  3167.45585 ,  8428.0693  ,  5012.471   ,\n",
       "        5209.57885 ,  2855.43755 , 20277.80751 ,  3554.203   ,\n",
       "        8569.8618  , 10594.50155 ,  3597.596   ,  7323.734819,\n",
       "        2731.9122  , 38711.      , 12981.3457  ,  9283.562   ,\n",
       "        2709.1119  , 12096.6512  ,  2198.18985 ,  8932.084   ,\n",
       "        3176.2877  , 24393.6224  ,  4266.1658  , 22493.65964 ,\n",
       "       17085.2676  , 16577.7795  ,  8827.2099  ,  4296.2712  ,\n",
       "        7804.1605  ,  3208.787   , 12957.118   , 22192.43711 ,\n",
       "        9432.9253  , 17043.3414  ,  6593.5083  ,  4137.5227  ,\n",
       "        4779.6023  , 14001.2867  , 12629.8967  ,  5245.2269  ,\n",
       "        2404.7338  ,  6948.7008  ,  6435.6237  , 42560.4304  ,\n",
       "        2055.3249  , 34672.1472  ,  1731.677   ,  1639.5631  ,\n",
       "        9377.9047  , 10977.2063  ,  1534.3045  ,  9644.2525  ,\n",
       "        4529.477   , 37829.7242  ,  9991.03765 ,  8125.7845  ,\n",
       "        3877.30425 ,  5979.731   , 43896.3763  ,  1674.6323  ,\n",
       "       13204.28565 , 44585.45587 ,  3021.80915 ,  3392.9768  ,\n",
       "        1632.03625 ,  2699.56835 , 20177.67113 ,  4076.497   ,\n",
       "       12592.5345  ,  1621.3402  ,  1875.344   ,  7196.867   ,\n",
       "        3161.454   , 12029.2867  ,  2719.27975 , 18218.16139 ,\n",
       "       12146.971   ,  3292.52985 ,  8688.85885 ,  6113.23105 ,\n",
       "        8059.6791  , 13415.0381  , 18246.4955  , 47055.5321  ,\n",
       "       12222.8983  ,  6067.12675 , 63770.42801 ,  9872.701   ,\n",
       "        9193.8385  ,  8534.6718  , 27117.99378 ,  8596.8278  ,\n",
       "       12475.3513  , 13405.3903  ,  2150.469   , 13747.87235 ,\n",
       "        6610.1097  , 39047.285   , 27375.90478 ,  9048.0273  ,\n",
       "        8988.15875 , 14901.5167  , 10096.97    ,  8835.26495 ,\n",
       "       38415.474   ,  2721.3208  ,  9877.6077  , 47269.854   ,\n",
       "        4237.12655 ,  2534.39375 ,  2205.9808  , 10965.446   ,\n",
       "       15006.57945 , 10736.87075 ,  9788.8659  , 10422.91665 ,\n",
       "        9304.7019  ,  3378.91    ,  2155.6815  , 38126.2465  ,\n",
       "       35491.64    ,  6356.2707  , 24059.68019 , 16450.8947  ,\n",
       "       12925.886   , 36950.2567  ,  2459.7201  , 46889.2612  ,\n",
       "        5124.1887  , 14133.03775 ,  6414.178   ,  1720.3537  ,\n",
       "       15817.9857  , 13462.52    ,  2103.08    , 12105.32    ,\n",
       "       20781.48892 , 12235.8392  , 41949.2441  , 12643.3778  ,\n",
       "       21223.6758  ,  7954.517   , 15170.069   ,  3659.346   ,\n",
       "        8232.6388  ,  8027.968   , 13919.8229  , 10791.96    ,\n",
       "       17878.90068 , 10601.412   , 13217.0945  , 11944.59435 ,\n",
       "       14358.36437 , 32548.3405  ,  5699.8375  ,  2352.96845 ,\n",
       "        4340.4409  ,  9391.346   , 42211.1382  ,  8823.279   ,\n",
       "       14256.1928  ,  7133.9025  ,  5312.16985 ,  3906.127   ,\n",
       "        2203.47185 , 28340.18885 ,  5484.4673  ,  1622.1885  ,\n",
       "       11299.343   ,  8026.6666  , 11737.84884 ,  2913.569   ,\n",
       "        9861.025   ,  2473.3341  , 39983.42595 , 36307.7983  ,\n",
       "       44400.4064  ,  3172.018   ,  7742.1098  ,  6185.3208  ,\n",
       "        1880.487   , 21771.3423  ,  6858.4796  , 17179.522   ,\n",
       "       42760.5022  ,  5478.0368  , 12638.195   ,  5989.52365 ,\n",
       "        9566.9909  , 10370.91255 , 19594.80965 , 11576.13    ,\n",
       "        6360.9936  ,  4032.2407  ,  2585.269   , 11658.37915 ,\n",
       "       21082.16    , 10807.4863  ,  9724.53    ,  3201.24515 ,\n",
       "        3309.7926  ,  5969.723   ,  8269.044   ,  9414.92    ,\n",
       "       23967.38305 , 47928.03    , 11842.442   ,  7421.19455 ,\n",
       "       12950.0712  , 11033.6617  ,  6082.405   ,  3989.841   ,\n",
       "        7537.1639  ,  3484.331   ,  8116.68    , 17626.23951 ,\n",
       "       11837.16    ,  9541.69555 ,  4399.731   ,  2200.83085 ,\n",
       "       11363.2832  ,  1964.78    ])"
      ]
     },
     "execution_count": 23,
     "metadata": {},
     "output_type": "execute_result"
    }
   ],
   "source": [
    "import seaborn as sns\n",
    "import numpy as np\n",
    "np.array(y_test)\n"
   ]
  },
  {
   "cell_type": "code",
   "execution_count": 24,
   "metadata": {},
   "outputs": [
    {
     "data": {
      "text/plain": [
       "<matplotlib.axes._subplots.AxesSubplot at 0x15a10917c48>"
      ]
     },
     "execution_count": 24,
     "metadata": {},
     "output_type": "execute_result"
    },
    {
     "data": {
      "image/png": "[encoded data removed]",
      "text/plain": [
       "<Figure size 432x288 with 1 Axes>"
      ]
     },
     "metadata": {
      "needs_background": "light"
     },
     "output_type": "display_data"
    }
   ],
   "source": [
    "sns.scatterplot(y_test, y_pred, alpha=0.5)\n"
   ]
  },
  {
   "cell_type": "code",
   "execution_count": 25,
   "metadata": {},
   "outputs": [
    {
     "name": "stdout",
     "output_type": "stream",
     "text": [
      "[[45.     0.    25.175  2.     0.     0.   ]\n",
      " [36.     0.    30.02   0.     0.     1.   ]\n",
      " [64.     0.    26.885  0.     1.     1.   ]\n",
      " ...\n",
      " [18.     0.    28.215  0.     0.     0.   ]\n",
      " [58.     1.    36.08   0.     0.     2.   ]\n",
      " [20.     1.    22.     1.     0.     3.   ]]\n"
     ]
    }
   ],
   "source": [
    "print (X_test)"
   ]
  },
  {
   "cell_type": "code",
   "execution_count": 26,
   "metadata": {},
   "outputs": [
    {
     "data": {
      "text/html": [
       "<div>\n",
       "<style scoped>\n",
       "    .dataframe tbody tr th:only-of-type {\n",
       "        vertical-align: middle;\n",
       "    }\n",
       "\n",
       "    .dataframe tbody tr th {\n",
       "        vertical-align: top;\n",
       "    }\n",
       "\n",
       "    .dataframe thead th {\n",
       "        text-align: right;\n",
       "    }\n",
       "</style>\n",
       "<table border=\"1\" class=\"dataframe\">\n",
       "  <thead>\n",
       "    <tr style=\"text-align: right;\">\n",
       "      <th></th>\n",
       "      <th>age</th>\n",
       "      <th>sex</th>\n",
       "      <th>bmi</th>\n",
       "      <th>children</th>\n",
       "      <th>smoker</th>\n",
       "      <th>region</th>\n",
       "      <th>charges</th>\n",
       "    </tr>\n",
       "  </thead>\n",
       "  <tbody>\n",
       "    <tr>\n",
       "      <th>0</th>\n",
       "      <td>19</td>\n",
       "      <td>0</td>\n",
       "      <td>27.900</td>\n",
       "      <td>0</td>\n",
       "      <td>1</td>\n",
       "      <td>3</td>\n",
       "      <td>16884.92400</td>\n",
       "    </tr>\n",
       "    <tr>\n",
       "      <th>1</th>\n",
       "      <td>18</td>\n",
       "      <td>1</td>\n",
       "      <td>33.770</td>\n",
       "      <td>1</td>\n",
       "      <td>0</td>\n",
       "      <td>2</td>\n",
       "      <td>1725.55230</td>\n",
       "    </tr>\n",
       "    <tr>\n",
       "      <th>2</th>\n",
       "      <td>28</td>\n",
       "      <td>1</td>\n",
       "      <td>33.000</td>\n",
       "      <td>3</td>\n",
       "      <td>0</td>\n",
       "      <td>2</td>\n",
       "      <td>4449.46200</td>\n",
       "    </tr>\n",
       "    <tr>\n",
       "      <th>3</th>\n",
       "      <td>33</td>\n",
       "      <td>1</td>\n",
       "      <td>22.705</td>\n",
       "      <td>0</td>\n",
       "      <td>0</td>\n",
       "      <td>1</td>\n",
       "      <td>21984.47061</td>\n",
       "    </tr>\n",
       "    <tr>\n",
       "      <th>4</th>\n",
       "      <td>32</td>\n",
       "      <td>1</td>\n",
       "      <td>28.880</td>\n",
       "      <td>0</td>\n",
       "      <td>0</td>\n",
       "      <td>1</td>\n",
       "      <td>3866.85520</td>\n",
       "    </tr>\n",
       "  </tbody>\n",
       "</table>\n",
       "</div>"
      ],
      "text/plain": [
       "   age  sex     bmi  children  smoker  region      charges\n",
       "0   19    0  27.900         0       1       3  16884.92400\n",
       "1   18    1  33.770         1       0       2   1725.55230\n",
       "2   28    1  33.000         3       0       2   4449.46200\n",
       "3   33    1  22.705         0       0       1  21984.47061\n",
       "4   32    1  28.880         0       0       1   3866.85520"
      ]
     },
     "execution_count": 26,
     "metadata": {},
     "output_type": "execute_result"
    }
   ],
   "source": [
    "insurance.head()"
   ]
  },
  {
   "cell_type": "code",
   "execution_count": 27,
   "metadata": {},
   "outputs": [
    {
     "name": "stdout",
     "output_type": "stream",
     "text": [
      "[ 9095.06825   5272.1758   29330.98315   9301.89355  33750.2918\n",
      "  4536.259     2117.33885  14210.53595   3732.6251   10264.4421\n",
      " 18259.216     7256.7231    3947.4131   46151.1245   48673.5588\n",
      " 44202.6536    9800.8882   42969.8527    8233.0975   21774.32215\n",
      "  5080.096     7441.501     1256.299     2755.02095  11085.5868\n",
      " 10923.9332   12644.589    18804.7524    9715.841     1131.5066\n",
      " 15828.82173  11842.62375   2020.5523    5693.4305    2904.088\n",
      "  7448.40395   2597.779     7337.748    23887.6627   38709.176\n",
      "  4687.797     2643.2685   11674.13     12124.9924    4889.9995\n",
      " 12333.828     3579.8287    4391.652    42124.5153    4463.2051\n",
      " 13887.204     1719.4363   28476.73499   1708.92575  10594.2257\n",
      " 25333.33284   3645.0894   38746.3551   11848.141    10564.8845\n",
      " 13880.949     4753.6368   27941.28758   8017.06115  23045.56616\n",
      "  4133.64165  17942.106    25992.82104   3594.17085   1682.597\n",
      "  6079.6715    9411.005     8283.6807    6338.0756    7152.6714\n",
      "  4889.0368    4846.92015  11454.0215    4349.462     9101.798\n",
      "  1391.5287   28101.33305   5152.134    38511.6283   44501.3982\n",
      " 41097.16175   4837.5823   10601.63225   8310.83915  11264.541\n",
      " 15230.32405  27037.9141   23401.30575   5031.26955  38282.7495\n",
      "  6875.961    19719.6947    1880.07     18765.87545   6402.29135\n",
      "  4527.18295   1743.214     5709.1644   12363.547    13129.60345\n",
      "  1727.54      7731.4271   21195.818     1702.4553   23244.7902\n",
      " 23082.95533   2927.0647   13019.16105  37701.8768    9778.3472\n",
      "  1980.07     30259.99556  22478.6       6313.759     2789.0574\n",
      "  5594.8455    7261.741    11396.9002    1986.9334    4719.73655\n",
      "  7749.1564    7345.7266    9288.0267   12244.531     1837.2819\n",
      "  3972.9247    5934.3798    5836.5204    7935.29115   5649.715\n",
      " 12347.172    12404.8791   22144.032    42983.4585   37270.1512\n",
      "  5267.81815   9866.30485   2322.6218   33471.97189   2137.6536\n",
      " 23306.547     5261.46945   3761.292    11436.73815   4751.07\n",
      " 46661.4424    2690.1138    1146.7966   37607.5277    6373.55735\n",
      "  4518.82625  13555.0049    8547.6913   34439.8559   39125.33225\n",
      " 13607.36875   2710.82855  14988.432     2396.0959    3591.48\n",
      "  7162.0122   48824.45     43578.9394   39556.4945    2632.992\n",
      "  9182.17      6238.298     5757.41345   4239.89265   2154.361\n",
      " 21978.6769   16297.846    13831.1152   32734.1863   11830.6072\n",
      " 29523.1656    3167.45585   8428.0693    5012.471     5209.57885\n",
      "  2855.43755  20277.80751   3554.203     8569.8618   10594.50155\n",
      "  3597.596     7323.734819  2731.9122   38711.       12981.3457\n",
      "  9283.562     2709.1119   12096.6512    2198.18985   8932.084\n",
      "  3176.2877   24393.6224    4266.1658   22493.65964  17085.2676\n",
      " 16577.7795    8827.2099    4296.2712    7804.1605    3208.787\n",
      " 12957.118    22192.43711   9432.9253   17043.3414    6593.5083\n",
      "  4137.5227    4779.6023   14001.2867   12629.8967    5245.2269\n",
      "  2404.7338    6948.7008    6435.6237   42560.4304    2055.3249\n",
      " 34672.1472    1731.677     1639.5631    9377.9047   10977.2063\n",
      "  1534.3045    9644.2525    4529.477    37829.7242    9991.03765\n",
      "  8125.7845    3877.30425   5979.731    43896.3763    1674.6323\n",
      " 13204.28565  44585.45587   3021.80915   3392.9768    1632.03625\n",
      "  2699.56835  20177.67113   4076.497    12592.5345    1621.3402\n",
      "  1875.344     7196.867     3161.454    12029.2867    2719.27975\n",
      " 18218.16139  12146.971     3292.52985   8688.85885   6113.23105\n",
      "  8059.6791   13415.0381   18246.4955   47055.5321   12222.8983\n",
      "  6067.12675  63770.42801   9872.701     9193.8385    8534.6718\n",
      " 27117.99378   8596.8278   12475.3513   13405.3903    2150.469\n",
      " 13747.87235   6610.1097   39047.285    27375.90478   9048.0273\n",
      "  8988.15875  14901.5167   10096.97      8835.26495  38415.474\n",
      "  2721.3208    9877.6077   47269.854     4237.12655   2534.39375\n",
      "  2205.9808   10965.446    15006.57945  10736.87075   9788.8659\n",
      " 10422.91665   9304.7019    3378.91      2155.6815   38126.2465\n",
      " 35491.64      6356.2707   24059.68019  16450.8947   12925.886\n",
      " 36950.2567    2459.7201   46889.2612    5124.1887   14133.03775\n",
      "  6414.178     1720.3537   15817.9857   13462.52      2103.08\n",
      " 12105.32     20781.48892  12235.8392   41949.2441   12643.3778\n",
      " 21223.6758    7954.517    15170.069     3659.346     8232.6388\n",
      "  8027.968    13919.8229   10791.96     17878.90068  10601.412\n",
      " 13217.0945   11944.59435  14358.36437  32548.3405    5699.8375\n",
      "  2352.96845   4340.4409    9391.346    42211.1382    8823.279\n",
      " 14256.1928    7133.9025    5312.16985   3906.127     2203.47185\n",
      " 28340.18885   5484.4673    1622.1885   11299.343     8026.6666\n",
      " 11737.84884   2913.569     9861.025     2473.3341   39983.42595\n",
      " 36307.7983   44400.4064    3172.018     7742.1098    6185.3208\n",
      "  1880.487    21771.3423    6858.4796   17179.522    42760.5022\n",
      "  5478.0368   12638.195     5989.52365   9566.9909   10370.91255\n",
      " 19594.80965  11576.13      6360.9936    4032.2407    2585.269\n",
      " 11658.37915  21082.16     10807.4863    9724.53      3201.24515\n",
      "  3309.7926    5969.723     8269.044     9414.92     23967.38305\n",
      " 47928.03     11842.442     7421.19455  12950.0712   11033.6617\n",
      "  6082.405     3989.841     7537.1639    3484.331     8116.68\n",
      " 17626.23951  11837.16      9541.69555   4399.731     2200.83085\n",
      " 11363.2832    1964.78    ]\n"
     ]
    }
   ],
   "source": [
    "print (y_test)"
   ]
  },
  {
   "cell_type": "code",
   "execution_count": 37,
   "metadata": {},
   "outputs": [],
   "source": [
    "x_pred = np.array( [[36.0, 0,30.02, 0 ,0, 1.0],[64.0, 0.,26.885,0., 1.,1.]])\n",
    "x_pred = x_pred.reshape(-1, 6)"
   ]
  },
  {
   "cell_type": "code",
   "execution_count": 38,
   "metadata": {},
   "outputs": [
    {
     "data": {
      "text/plain": [
       "array([ 7070.90670308, 36937.08049605])"
      ]
     },
     "execution_count": 38,
     "metadata": {},
     "output_type": "execute_result"
    }
   ],
   "source": [
    "model.predict(x_pred)"
   ]
  }
 ],
 "metadata": {
  "kernelspec": {
   "display_name": "Python 3",
   "language": "python",
   "name": "python3"
  },
  "language_info": {
   "codemirror_mode": {
    "name": "ipython",
    "version": 3
   },
   "file_extension": ".py",
   "mimetype": "text/x-python",
   "name": "python",
   "nbconvert_exporter": "python",
   "pygments_lexer": "ipython3",
   "version": "3.7.6"
  }
 },
 "nbformat": 4,
 "nbformat_minor": 4
}
